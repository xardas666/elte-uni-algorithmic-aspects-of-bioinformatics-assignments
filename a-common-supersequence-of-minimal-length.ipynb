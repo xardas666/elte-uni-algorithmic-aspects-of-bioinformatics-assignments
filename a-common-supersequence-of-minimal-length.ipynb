{
 "cells": [
  {
   "cell_type": "code",
   "execution_count": 1,
   "metadata": {
    "collapsed": true
   },
   "outputs": [],
   "source": [
    "from re import search\n",
    "\n",
    "def shortestSuperstring(A):\n",
    "    found=[]\n",
    "    if len(A)==1:\n",
    "        return A[0]\n",
    "    dic={}\n",
    "    for i in range(len(A)):\n",
    "        for j in range(len(A)):\n",
    "            if i!=j:\n",
    "                ol=0\n",
    "                for k in range(1,min(len(A[i]),len(A[j]))):\n",
    "                    if A[j][:k]==A[i][-k:]:\n",
    "                        ol=k\n",
    "                dic[(i,j)]=ol\n",
    "    if max(dic.values())==0:\n",
    "        return \"\".join(A)\n",
    "    else:\n",
    "        ret=\"\".join(A)\n",
    "        l=len(ret)\n",
    "        stack=[]\n",
    "        for i,wd in enumerate(A):\n",
    "            tmp=set(range(len(A)))\n",
    "            tmp.remove(i)\n",
    "            stack.append((wd,i,tmp))\n",
    "        while stack:\n",
    "            ans,cur,remain=stack.pop()\n",
    "            found.append(ans)\n",
    "            if len(ans)<l:\n",
    "                if not remain:\n",
    "                    ret=ans\n",
    "                    l=len(ret)\n",
    "                    i+=1\n",
    "                else:\n",
    "                    tmp=[[dic[cur,idx],idx] for idx in remain] # [#overlap,idx]\n",
    "                    tmp.sort()\n",
    "                    for ol,idx in tmp:\n",
    "                        nans=ans+A[idx][ol:]\n",
    "                        nremain=set(remain)\n",
    "                        nremain.remove(idx)\n",
    "                        stack.append((nans,idx,nremain))\n",
    "\n",
    "    resoults =[]\n",
    "    for word in found:\n",
    "        isRealSuperstring =  all(search(elem,word) for elem in A)\n",
    "        if isRealSuperstring:\n",
    "            resoults.append(word)\n",
    "\n",
    "    shortestLen=len(\"\".join(A))\n",
    "    for word in resoults:\n",
    "        if len(word)<shortestLen:\n",
    "            shortestLen=len(word)\n",
    "\n",
    "    shortestSuperstrings=[]\n",
    "    i=0\n",
    "    for word in resoults:\n",
    "        if len(word)==shortestLen:\n",
    "            i+=1;\n",
    "            shortestSuperstrings.append(word)\n",
    "\n",
    "    realResoultsWithoutDuplicates = set()\n",
    "    for elem in shortestSuperstrings:\n",
    "        realResoultsWithoutDuplicates.add(elem)\n",
    "\n",
    "    return len(realResoultsWithoutDuplicates)"
   ]
  },
  {
   "cell_type": "code",
   "execution_count": 2,
   "outputs": [
    {
     "name": "stdout",
     "output_type": "stream",
     "text": [
      "GATTGCCTTGG\n",
      "TGGATTGCCTT\n",
      "TGGATTGCCTT\n",
      "TGCCTTGGATT\n",
      "TGCCTTGGATT\n",
      "CCTTGGATTGC\n",
      "CCTTGGATTGC\n"
     ]
    },
    {
     "data": {
      "text/plain": "4"
     },
     "execution_count": 2,
     "metadata": {},
     "output_type": "execute_result"
    }
   ],
   "source": [
    "seqsb = ['CCT', 'CTT', 'TGC', 'TGG', 'GAT', 'ATT']\n",
    "shortestSuperstring(seqsb)"
   ],
   "metadata": {
    "collapsed": false,
    "pycharm": {
     "name": "#%%\n"
    }
   }
  },
  {
   "cell_type": "code",
   "execution_count": 2,
   "outputs": [],
   "source": [],
   "metadata": {
    "collapsed": false,
    "pycharm": {
     "name": "#%%\n"
    }
   }
  }
 ],
 "metadata": {
  "kernelspec": {
   "display_name": "Python 3",
   "language": "python",
   "name": "python3"
  },
  "language_info": {
   "codemirror_mode": {
    "name": "ipython",
    "version": 2
   },
   "file_extension": ".py",
   "mimetype": "text/x-python",
   "name": "python",
   "nbconvert_exporter": "python",
   "pygments_lexer": "ipython2",
   "version": "2.7.6"
  }
 },
 "nbformat": 4,
 "nbformat_minor": 0
}