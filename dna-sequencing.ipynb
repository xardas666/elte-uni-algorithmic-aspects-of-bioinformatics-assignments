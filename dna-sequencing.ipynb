{
 "cells": [
  {
   "cell_type": "code",
   "execution_count": 1,
   "metadata": {
    "collapsed": true
   },
   "outputs": [],
   "source": [
    "def readFASTQ(filename):\n",
    "    names =[]\n",
    "    sequences =[]\n",
    "    qualites =[]\n",
    "    with open(filename,'r') as f:\n",
    "        while True:\n",
    "            name = f.readline().rstrip()\n",
    "            seq = f.readline().rstrip()\n",
    "            f.readline().rstrip()\n",
    "            qual = f.readline().rstrip()\n",
    "            if len(seq)==0:\n",
    "                break;\n",
    "            sequences.append(seq)\n",
    "            names.append(name)\n",
    "            qualites.append(qual)\n",
    "\n",
    "    return names, sequences, qualites\n",
    "\n",
    "def isNucAbc(c):\n",
    "    if c == 'A' or c == 'C' or c == 'G' or c == 'T':\n",
    "        return True\n",
    "    else:\n",
    "        return False\n",
    "\n",
    "def legrosszabb(sequences):\n",
    "    hibak = [0]*100\n",
    "    for s in sequences:\n",
    "        for i in range(len(s)):\n",
    "            if not isNucAbc(s[i]):\n",
    "                hibak[i] +=1\n",
    "\n",
    "\n",
    "    max_value = max(hibak)\n",
    "    max_index = hibak.index(max_value)\n",
    "    return max_index"
   ]
  },
  {
   "cell_type": "code",
   "execution_count": 2,
   "outputs": [
    {
     "name": "stdout",
     "output_type": "stream",
     "text": [
      "66\n"
     ]
    }
   ],
   "source": [
    "names, sequences, qualities = readFASTQ(\"ERR037900_1.first1000.fastq\")\n",
    "\n",
    "print(legrosszabb(sequences))"
   ],
   "metadata": {
    "collapsed": false,
    "pycharm": {
     "name": "#%%\n"
    }
   }
  }
 ],
 "metadata": {
  "kernelspec": {
   "display_name": "Python 3",
   "language": "python",
   "name": "python3"
  },
  "language_info": {
   "codemirror_mode": {
    "name": "ipython",
    "version": 2
   },
   "file_extension": ".py",
   "mimetype": "text/x-python",
   "name": "python",
   "nbconvert_exporter": "python",
   "pygments_lexer": "ipython2",
   "version": "2.7.6"
  }
 },
 "nbformat": 4,
 "nbformat_minor": 0
}